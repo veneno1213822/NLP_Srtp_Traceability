{
 "cells": [
  {
   "cell_type": "code",
   "execution_count": 2,
   "id": "d228e4e1-ef94-4e59-aa25-11e5fc5bf41e",
   "metadata": {
    "execution": {
     "iopub.execute_input": "2024-08-27T13:16:17.501557Z",
     "iopub.status.busy": "2024-08-27T13:16:17.500255Z",
     "iopub.status.idle": "2024-08-27T13:16:17.515719Z",
     "shell.execute_reply": "2024-08-27T13:16:17.514985Z",
     "shell.execute_reply.started": "2024-08-27T13:16:17.501498Z"
    }
   },
   "outputs": [
    {
     "name": "stdout",
     "output_type": "stream",
     "text": [
      "{'quantity': '100', 'quantifier': '100艘', 'start_index': 7, 'end_index': 10, 'platform_distance': 8}\n"
     ]
    }
   ],
   "source": [
    "import re\n",
    "\n",
    "# 定义文本\n",
    "text = \"印度海军将在约100艘海军平台上部署赛博军官，另有50架飞机将进行升级\"\n",
    "\n",
    "def find_num(text,obj):\n",
    "    # 特定的量词列表\n",
    "    quantifiers = \"艘|架\"  # 例如：\"艘\", \"架\", \"艘军舰\", \"艘舰船\"\n",
    "\n",
    "    # 正则表达式匹配数字和特定的量词\n",
    "    # \\d+ 匹配一个或多个数字\n",
    "    # (?:...) 非捕获组，用于分组但不捕获文本\n",
    "    # quantifiers 特定的量词列表\n",
    "    # \\s 匹配空格\n",
    "    # *? 非贪婪匹配，尽可能少匹配字符\n",
    "    pattern = r'(\\d+)(?:\\s*(' + quantifiers + '))?'\n",
    "\n",
    "    # 使用 finditer 方法查找匹配的数量字段及其位置\n",
    "    matches = re.finditer(pattern, text)\n",
    "\n",
    "    # 存储所有匹配的数量字段和相关信息\n",
    "    quantities_info = []\n",
    "\n",
    "    for match in matches:\n",
    "        quantity = match.group(1)  # 匹配到的数字\n",
    "        quantifier = match.group(2)  # 匹配到的特定量词\n",
    "        full_match = match.group(0)\n",
    "        start_index = match.start()  # 数字和量词在文本中的起始位置\n",
    "        end_index = match.end() - 1  # 数字和量词在文本中的结束位置\n",
    "\n",
    "        # 计算与特定关键词的距离，这里以“海军平台”为例\n",
    "        # 如果文本中有多个关键词，可以为每个关键词计算距离\n",
    "        platform_distance = len(text[:start_index]) - text[:start_index].rfind(obj)\n",
    "\n",
    "        quantities_info.append({\n",
    "            'quantity': quantity,\n",
    "            'quantifier': full_match,\n",
    "            'start_index': start_index,\n",
    "            'end_index': end_index,\n",
    "            'platform_distance': platform_distance\n",
    "        })\n",
    "\n",
    "    \n",
    "    distances = []\n",
    "    # 打印所有匹配的数量字段及其相关信息\n",
    "    for info in quantities_info:\n",
    "        distances.append(info[\"platform_distance\"])\n",
    "        # print(info)\n",
    "    min_distance = min(distances)\n",
    "    for info in quantities_info:\n",
    "        if info[\"platform_distance\"] == min_distance:\n",
    "            print(info)\n",
    "\n",
    "\n",
    "find_num(text,\"海军平台\")"
   ]
  }
 ],
 "metadata": {
  "kernelspec": {
   "display_name": "Python 3 (ipykernel)",
   "language": "python",
   "name": "python3"
  },
  "language_info": {
   "codemirror_mode": {
    "name": "ipython",
    "version": 3
   },
   "file_extension": ".py",
   "mimetype": "text/x-python",
   "name": "python",
   "nbconvert_exporter": "python",
   "pygments_lexer": "ipython3",
   "version": "3.10.12"
  }
 },
 "nbformat": 4,
 "nbformat_minor": 5
}
