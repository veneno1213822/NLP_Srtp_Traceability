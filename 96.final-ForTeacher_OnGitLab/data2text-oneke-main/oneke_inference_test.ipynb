{
 "cells": [
  {
   "cell_type": "code",
   "execution_count": 1,
   "id": "7000d463-e994-4ca7-8a7c-cde7f22e3e08",
   "metadata": {
    "execution": {
     "iopub.execute_input": "2024-09-10T12:12:13.662722Z",
     "iopub.status.busy": "2024-09-10T12:12:13.661962Z",
     "iopub.status.idle": "2024-09-10T12:12:13.673535Z",
     "shell.execute_reply": "2024-09-10T12:12:13.672925Z",
     "shell.execute_reply.started": "2024-09-10T12:12:13.662663Z"
    }
   },
   "outputs": [],
   "source": [
    "import os\n",
    "os.environ[\"CUDA_VISIBLE_DEVICES\"] = \"1\""
   ]
  },
  {
   "cell_type": "code",
   "execution_count": 2,
   "id": "173ce7e4-c693-4bc2-8227-419192ac76bb",
   "metadata": {
    "execution": {
     "iopub.execute_input": "2024-09-10T12:12:14.504903Z",
     "iopub.status.busy": "2024-09-10T12:12:14.503995Z",
     "iopub.status.idle": "2024-09-10T12:12:21.662880Z",
     "shell.execute_reply": "2024-09-10T12:12:21.661648Z",
     "shell.execute_reply.started": "2024-09-10T12:12:14.504846Z"
    }
   },
   "outputs": [
    {
     "name": "stderr",
     "output_type": "stream",
     "text": [
      "/usr/local/lib/python3.10/dist-packages/tqdm/auto.py:21: TqdmWarning: IProgress not found. Please update jupyter and ipywidgets. See https://ipywidgets.readthedocs.io/en/stable/user_install.html\n",
      "  from .autonotebook import tqdm as notebook_tqdm\n"
     ]
    },
    {
     "name": "stdout",
     "output_type": "stream",
     "text": [
      "[2024-09-10 12:12:17,509] [INFO] [real_accelerator.py:203:get_accelerator] Setting ds_accelerator to cuda (auto detect)\n"
     ]
    }
   ],
   "source": [
    "import torch\n",
    "import json\n",
    "from transformers import (\n",
    "    AutoConfig,\n",
    "    AutoTokenizer,\n",
    "    AutoModelForCausalLM,\n",
    "    GenerationConfig\n",
    ")\n",
    "from peft import PeftModel\n",
    "device = torch.device(\"cuda\" if torch.cuda.is_available() else \"cpu\")\n",
    "# model_path = 'cache/models--meta-llama--Meta-Llama-3-8B/snapshots/62bd457b6fe961a42a631306577e622c83876cb6'\n",
    "# lora_path = 'lora/llama3-8B-iepile-data2text-continue'\n",
    "model_path = 'cache/models--baichuan-inc--Baichuan2-7B-Chat/snapshots/ea66ced17780ca3db39bc9f8aa601d8463db3da5'\n",
    "lora_path = 'lora/baichuan7B-data2text-continue'\n",
    "config = AutoConfig.from_pretrained(model_path, trust_remote_code=True)\n",
    "tokenizer = AutoTokenizer.from_pretrained(model_path, trust_remote_code=True)"
   ]
  },
  {
   "cell_type": "code",
   "execution_count": 3,
   "id": "84b85e8a-4659-42d9-b77f-005a637d7804",
   "metadata": {
    "execution": {
     "iopub.execute_input": "2024-09-10T12:12:22.506672Z",
     "iopub.status.busy": "2024-09-10T12:12:22.505796Z",
     "iopub.status.idle": "2024-09-10T12:14:05.297340Z",
     "shell.execute_reply": "2024-09-10T12:14:05.296581Z",
     "shell.execute_reply.started": "2024-09-10T12:12:22.506620Z"
    },
    "scrolled": true
   },
   "outputs": [
    {
     "name": "stderr",
     "output_type": "stream",
     "text": [
      "Xformers is not installed correctly. If you want to use memory_efficient_attention to accelerate training use the following command to install Xformers\n",
      "pip install xformers.\n"
     ]
    },
    {
     "data": {
      "text/plain": [
       "PeftModelForCausalLM(\n",
       "  (base_model): LoraModel(\n",
       "    (model): BaichuanForCausalLM(\n",
       "      (model): BaichuanModel(\n",
       "        (embed_tokens): Embedding(125696, 4096, padding_idx=0)\n",
       "        (layers): ModuleList(\n",
       "          (0-31): 32 x DecoderLayer(\n",
       "            (self_attn): Attention(\n",
       "              (W_pack): Linear(\n",
       "                in_features=4096, out_features=12288, bias=False\n",
       "                (lora_dropout): ModuleDict(\n",
       "                  (default): Dropout(p=0.05, inplace=False)\n",
       "                )\n",
       "                (lora_A): ModuleDict(\n",
       "                  (default): Linear(in_features=4096, out_features=64, bias=False)\n",
       "                )\n",
       "                (lora_B): ModuleDict(\n",
       "                  (default): Linear(in_features=64, out_features=12288, bias=False)\n",
       "                )\n",
       "                (lora_embedding_A): ParameterDict()\n",
       "                (lora_embedding_B): ParameterDict()\n",
       "              )\n",
       "              (o_proj): Linear(\n",
       "                in_features=4096, out_features=4096, bias=False\n",
       "                (lora_dropout): ModuleDict(\n",
       "                  (default): Dropout(p=0.05, inplace=False)\n",
       "                )\n",
       "                (lora_A): ModuleDict(\n",
       "                  (default): Linear(in_features=4096, out_features=64, bias=False)\n",
       "                )\n",
       "                (lora_B): ModuleDict(\n",
       "                  (default): Linear(in_features=64, out_features=4096, bias=False)\n",
       "                )\n",
       "                (lora_embedding_A): ParameterDict()\n",
       "                (lora_embedding_B): ParameterDict()\n",
       "              )\n",
       "              (rotary_emb): RotaryEmbedding()\n",
       "            )\n",
       "            (mlp): MLP(\n",
       "              (gate_proj): Linear(\n",
       "                in_features=4096, out_features=11008, bias=False\n",
       "                (lora_dropout): ModuleDict(\n",
       "                  (default): Dropout(p=0.05, inplace=False)\n",
       "                )\n",
       "                (lora_A): ModuleDict(\n",
       "                  (default): Linear(in_features=4096, out_features=64, bias=False)\n",
       "                )\n",
       "                (lora_B): ModuleDict(\n",
       "                  (default): Linear(in_features=64, out_features=11008, bias=False)\n",
       "                )\n",
       "                (lora_embedding_A): ParameterDict()\n",
       "                (lora_embedding_B): ParameterDict()\n",
       "              )\n",
       "              (down_proj): Linear(\n",
       "                in_features=11008, out_features=4096, bias=False\n",
       "                (lora_dropout): ModuleDict(\n",
       "                  (default): Dropout(p=0.05, inplace=False)\n",
       "                )\n",
       "                (lora_A): ModuleDict(\n",
       "                  (default): Linear(in_features=11008, out_features=64, bias=False)\n",
       "                )\n",
       "                (lora_B): ModuleDict(\n",
       "                  (default): Linear(in_features=64, out_features=4096, bias=False)\n",
       "                )\n",
       "                (lora_embedding_A): ParameterDict()\n",
       "                (lora_embedding_B): ParameterDict()\n",
       "              )\n",
       "              (up_proj): Linear(\n",
       "                in_features=4096, out_features=11008, bias=False\n",
       "                (lora_dropout): ModuleDict(\n",
       "                  (default): Dropout(p=0.05, inplace=False)\n",
       "                )\n",
       "                (lora_A): ModuleDict(\n",
       "                  (default): Linear(in_features=4096, out_features=64, bias=False)\n",
       "                )\n",
       "                (lora_B): ModuleDict(\n",
       "                  (default): Linear(in_features=64, out_features=11008, bias=False)\n",
       "                )\n",
       "                (lora_embedding_A): ParameterDict()\n",
       "                (lora_embedding_B): ParameterDict()\n",
       "              )\n",
       "              (act_fn): SiLUActivation()\n",
       "            )\n",
       "            (input_layernorm): RMSNorm()\n",
       "            (post_attention_layernorm): RMSNorm()\n",
       "          )\n",
       "        )\n",
       "        (norm): RMSNorm()\n",
       "      )\n",
       "      (lm_head): NormHead()\n",
       "    )\n",
       "  )\n",
       ")"
      ]
     },
     "execution_count": 3,
     "metadata": {},
     "output_type": "execute_result"
    }
   ],
   "source": [
    "model = AutoModelForCausalLM.from_pretrained(\n",
    "    model_path,\n",
    "    config=config,\n",
    "    device_map=\"cuda\",\n",
    "    torch_dtype=torch.bfloat16,\n",
    "    trust_remote_code=True,\n",
    ")\n",
    "model = PeftModel.from_pretrained(\n",
    "    model,\n",
    "    lora_path,\n",
    ")\n",
    "model.eval()"
   ]
  },
  {
   "cell_type": "code",
   "execution_count": 4,
   "id": "18666f06-172e-4b4c-8e39-b8b15af17a4b",
   "metadata": {
    "execution": {
     "iopub.execute_input": "2024-09-08T05:07:31.689266Z",
     "iopub.status.busy": "2024-09-08T05:07:31.688507Z",
     "iopub.status.idle": "2024-09-08T05:07:31.850251Z",
     "shell.execute_reply": "2024-09-08T05:07:31.849360Z",
     "shell.execute_reply.started": "2024-09-08T05:07:31.689208Z"
    }
   },
   "outputs": [],
   "source": [
    "import gc\n",
    "\n",
    "del model\n",
    "gc.collect()\n",
    "torch.cuda.empty_cache()"
   ]
  },
  {
   "cell_type": "code",
   "execution_count": 4,
   "id": "f4a55f3c-32ca-40ea-9d2b-9ebf6040eb94",
   "metadata": {
    "execution": {
     "iopub.execute_input": "2024-09-10T12:15:53.592296Z",
     "iopub.status.busy": "2024-09-10T12:15:53.591095Z",
     "iopub.status.idle": "2024-09-10T12:15:53.632064Z",
     "shell.execute_reply": "2024-09-10T12:15:53.631049Z",
     "shell.execute_reply.started": "2024-09-10T12:15:53.592229Z"
    }
   },
   "outputs": [],
   "source": [
    "file_path = 'data2text/data2text-test-all-v1.json'\n",
    "with open(file_path, 'r', encoding='utf-8') as file:\n",
    "    data = json.load(file)"
   ]
  },
  {
   "cell_type": "code",
   "execution_count": 14,
   "id": "796eae25-cb06-430e-a5dd-17cfc68654a2",
   "metadata": {
    "execution": {
     "iopub.execute_input": "2024-09-10T12:19:54.635089Z",
     "iopub.status.busy": "2024-09-10T12:19:54.634246Z",
     "iopub.status.idle": "2024-09-10T12:19:54.649655Z",
     "shell.execute_reply": "2024-09-10T12:19:54.648696Z",
     "shell.execute_reply.started": "2024-09-10T12:19:54.635034Z"
    }
   },
   "outputs": [],
   "source": [
    "def inference(data, output_format=True):\n",
    "    system_prompt = '<<SYS>>\\n 你是一个乐于助人的助手。\\n<</SYS>>\\n\\n'\n",
    "    input_data = {\n",
    "        \"instruction\": \"你是一个命名实体识别专家。请从input中抽取符合schema描述的实体，如果实体类型不存在就返回空列表，并输出为可解析的json格式。\",\n",
    "        \"schema\": data[0]['table']['header'],\n",
    "        \"input\": data[0]['text']\n",
    "    }\n",
    "    sintruct = json.dumps(input_data, ensure_ascii=False)\n",
    "    # sintruct = '[INST]' + system_prompt + sintruct + '[/INST]\\n'\n",
    "    # sintruct = '[INST] ' + system_prompt + sintruct + ' [/INST]\\n### 期望的输出为：\\n'\n",
    "    # sintruct = system_prompt + sintruct + \"\\n<|endoftext|>\"\n",
    "    sintruct = '<reserved_106>' + system_prompt + sintruct + '<reserved_107>'\n",
    "    # sintruct = '<|begin_of_text|>' + system_prompt + sintruct\n",
    "    # sintruct = {{ system_prompt }} + '<|eot_id|>' + '<|start_header_id|>' + sintruct '<|end_header_id|>'\n",
    "\n",
    "    input_ids = tokenizer.encode(\n",
    "        sintruct,\n",
    "        return_tensors=\"pt\",\n",
    "    ).to(device)\n",
    "    input_length = input_ids.size(1)\n",
    "\n",
    "    # 记录推理开始时间\n",
    "\n",
    "    if output_format:\n",
    "        with torch.no_grad():\n",
    "            generation_output = model.generate(\n",
    "                input_ids=input_ids,\n",
    "                generation_config=GenerationConfig(\n",
    "                    max_length=2048,\n",
    "                    max_new_tokens=512,\n",
    "                    return_dict_in_generate=True,\n",
    "                    # do_sample=True,\n",
    "                    # temperature=1\n",
    "                ),\n",
    "                pad_token_id=tokenizer.eos_token_id)\n",
    "    else:\n",
    "        with torch.no_grad():\n",
    "            generation_output = model.generate(\n",
    "                input_ids=input_ids,\n",
    "                generation_config=GenerationConfig(\n",
    "                    max_length=2048,\n",
    "                    max_new_tokens=512,\n",
    "                    return_dict_in_generate=True,\n",
    "                    do_sample=True,\n",
    "                    top_p=0.95,\n",
    "                    top_k=0,\n",
    "                    # temperature=1\n",
    "                ),\n",
    "                pad_token_id=tokenizer.eos_token_id)\n",
    "\n",
    "    generation_output = generation_output.sequences[0]\n",
    "    generation_output = generation_output[input_length:]\n",
    "    output = tokenizer.decode(generation_output, skip_special_tokens=True)\n",
    "    return output"
   ]
  },
  {
   "cell_type": "code",
   "execution_count": 7,
   "id": "663143fa-4936-4901-b7e3-4c35a94a2e32",
   "metadata": {
    "execution": {
     "iopub.execute_input": "2024-09-10T12:16:39.889272Z",
     "iopub.status.busy": "2024-09-10T12:16:39.888399Z",
     "iopub.status.idle": "2024-09-10T12:16:43.693892Z",
     "shell.execute_reply": "2024-09-10T12:16:43.692799Z",
     "shell.execute_reply.started": "2024-09-10T12:16:39.889213Z"
    }
   },
   "outputs": [
    {
     "name": "stdout",
     "output_type": "stream",
     "text": [
      "{\"时间\": [\"去年五月\"], \"人物\": [], \"国家\": [\"台湾\"], \"装备名称\": [\"笔记本电脑\"], \"装备类型\": [], \"装备数量\": [\"1\"], \"组织机构\": [\"海军\"], \"地点\": [\"台湾\"], \"任务\": [], \"行动\": [], \"事件\": []}\n"
     ]
    }
   ],
   "source": [
    "t = inference(data[0], False)\n",
    "print(t)"
   ]
  },
  {
   "cell_type": "code",
   "execution_count": 8,
   "id": "b10993e6-9d1d-4055-9ea0-4434f348f484",
   "metadata": {
    "execution": {
     "iopub.execute_input": "2024-09-10T12:16:45.716666Z",
     "iopub.status.busy": "2024-09-10T12:16:45.715691Z",
     "iopub.status.idle": "2024-09-10T12:16:45.723123Z",
     "shell.execute_reply": "2024-09-10T12:16:45.722057Z",
     "shell.execute_reply.started": "2024-09-10T12:16:45.716596Z"
    }
   },
   "outputs": [],
   "source": [
    "def is_valid_json(text):\n",
    "    try:\n",
    "        json.loads(text)\n",
    "        return True\n",
    "    except ValueError:\n",
    "        return False"
   ]
  },
  {
   "cell_type": "code",
   "execution_count": 9,
   "id": "d500abe2-9d05-42f2-92aa-a6894c8be73a",
   "metadata": {
    "execution": {
     "iopub.execute_input": "2024-09-10T12:16:48.507952Z",
     "iopub.status.busy": "2024-09-10T12:16:48.506960Z",
     "iopub.status.idle": "2024-09-10T12:16:48.516661Z",
     "shell.execute_reply": "2024-09-10T12:16:48.515615Z",
     "shell.execute_reply.started": "2024-09-10T12:16:48.507882Z"
    }
   },
   "outputs": [],
   "source": [
    "def jiance(number):\n",
    "    while True:\n",
    "        t = inference(data[number], False)\n",
    "        if is_valid_json(t):\n",
    "            print(t)\n",
    "            break  # 输出为有效 JSON，跳出循环\n",
    "        else:\n",
    "            print(f\"!!!输出 {t} 不符合 JSON 格式，重新生成...\")"
   ]
  },
  {
   "cell_type": "code",
   "execution_count": 15,
   "id": "fa5d48f4-66f7-455d-9406-e6d5f52d521f",
   "metadata": {
    "execution": {
     "iopub.execute_input": "2024-09-10T12:19:58.830176Z",
     "iopub.status.busy": "2024-09-10T12:19:58.829275Z",
     "iopub.status.idle": "2024-09-10T12:20:10.136175Z",
     "shell.execute_reply": "2024-09-10T12:20:10.135140Z",
     "shell.execute_reply.started": "2024-09-10T12:19:58.830110Z"
    }
   },
   "outputs": [
    {
     "name": "stdout",
     "output_type": "stream",
     "text": [
      "!!!输出 {\"时间\": [\"10月13日\"], \"人物\": [], \"国家\": [\"美国\"], \"装备名称\": [\"小鹰」号, `独立`号], \"装备类型\": [\"航空母舰\"], \"装备数量\": [\"2\"], \"组织机构\": [], \"地点\": [\"北海道小樽市的小樽港\"], \"任务\": [], \"行动\": [], \"事件\": []} 不符合 JSON 格式，重新生成...\n",
      "!!!输出 {\"时间\": [\"10月13日\"], \"人物\": [], \"国家\": [\"美国\"], \"装备名称\": [\"小鹰」号, «独立」号], \"装备类型\": [\"航空母舰\"], \"装备数量\": [\"1\"], \"组织机构\": [], \"地点\": [\"北海道小樽市的小樽港\"], \"任务\": [], \"行动\": [], \"事件\": []} 不符合 JSON 格式，重新生成...\n",
      "{\"时间\": [\"10月13日\"], \"人物\": [], \"国家\": [\"美国\"], \"装备名称\": [\"小鹰」号, «独立」号\"], \"装备类型\": [\"航空母舰\"], \"装备数量\": [\"2\"], \"组织机构\": [], \"地点\": [\"北海道小樽市的小樽港\"], \"任务\": [], \"行动\": [], \"事件\": []}\n"
     ]
    }
   ],
   "source": [
    "jiance(408)"
   ]
  },
  {
   "cell_type": "code",
   "execution_count": 10,
   "id": "a98d815b-9971-4d2c-98ea-25f0032b3438",
   "metadata": {
    "execution": {
     "iopub.execute_input": "2024-09-10T12:16:49.511276Z",
     "iopub.status.busy": "2024-09-10T12:16:49.509474Z",
     "iopub.status.idle": "2024-09-10T12:17:12.772618Z",
     "shell.execute_reply": "2024-09-10T12:17:12.770896Z",
     "shell.execute_reply.started": "2024-09-10T12:16:49.511199Z"
    }
   },
   "outputs": [
    {
     "name": "stdout",
     "output_type": "stream",
     "text": [
      "{\"时间\": [\"10月13日\"], \"人物\": [], \"国家\": [\"美国\"], \"装备名称\": [\"小鹰」号, «独立»号\"], \"装备类型\": [\"航空母舰\"], \"装备数量\": [\"1\"], \"组织机构\": [], \"地点\": [\"北海道小樽市的小樽港\"], \"任务\": [], \"行动\": [], \"事件\": []}\n",
      "{\"时间\": [\"3月14日\", \"2014年至2017年\"], \"人物\": [], \"国家\": [], \"装备名称\": [\"格里戈洛维奇上将号\", \"11356型护卫舰\"], \"装备类型\": [\"护卫舰\"], \"装备数量\": [\"1\", \"6\"], \"组织机构\": [\"黑海舰队\"], \"地点\": [\"黑海\"], \"任务\": [], \"行动\": [], \"事件\": []}\n",
      "{\"时间\": [\"2014年底之前\"], \"人物\": [], \"国家\": [\"美国\"], \"主体名称\": [\"美国陆军\", \"洛克希德・马丁公司\"], \"主体类型\": [\"军队\", \"公司\"], \"主体数量\": [\"2\"], \"组织机构\": [],\"地点\": [], \"行动\": [], \"事件\": []}\n",
      "{\"时间\": [\"2000年\"], \"人物\": [], \"国家\": [], \"主体名称\": [\"依维柯・菲亚特-奥托梅来拉联合企业\", \"克劳斯-玛菲・威格曼公司\"], \"主体类型\": [\"企业\", \"企业\"], \"主体数量\": [\"1\", \"1\"], \"组织机构\": [\"意大利国防部\"], \"地点\": [], \"行动\": [], \"事件\": []}\n",
      "{\"时间\": [\"8月12日\"], \"人物\": [], \"国家\": [\"马来西亚\"], \"主体名称\": [\"勒基号、卡斯图里号、潜艇\"], \"主体类型\": [\"护卫舰、护卫舰、潜艇\"], \"主体数量\": [\"2、2、1\"], \"组织机构\": [], \"地点\": [\"南海\"], \"行动\": [], \"事件\": []}\n",
      "{\"国别\": [], \"军种\": [\"陆军\"], \"装备数量\": [], \"装备\": [\"PLZ-45自行榴弹炮\"], \"地点\": [\"华东某训练基地\"], \"行动\": [], \"开始时间\": [\"7月22日\"], \"任务状态\": [\"进行中\"]}\n"
     ]
    }
   ],
   "source": [
    "for i in [408, 632, 1178, 1367, 1796, 2137]:\n",
    "    jiance(i)"
   ]
  },
  {
   "cell_type": "markdown",
   "id": "f2501730-aade-4def-8dce-a5d6f816cf26",
   "metadata": {},
   "source": [
    "## baichuan有问题的序号\n",
    "1. 408\n",
    "2. 632\n",
    "3. 1178\n",
    "4. 1367\n",
    "5. 1796\n",
    "6. 2137\n",
    "\n",
    "## llama有问题的序号\n",
    "1. 299\n",
    "2. 2133\n",
    "3. 2137"
   ]
  },
  {
   "cell_type": "code",
   "execution_count": 36,
   "id": "024070a5-6702-4201-9997-e566043ec89f",
   "metadata": {
    "execution": {
     "iopub.execute_input": "2024-09-08T08:28:13.657973Z",
     "iopub.status.busy": "2024-09-08T08:28:13.657076Z",
     "iopub.status.idle": "2024-09-08T08:28:13.664719Z",
     "shell.execute_reply": "2024-09-08T08:28:13.663443Z",
     "shell.execute_reply.started": "2024-09-08T08:28:13.657899Z"
    }
   },
   "outputs": [],
   "source": [
    "try:\n",
    "    a = json.loads(t)\n",
    "except json.JSONDecodeError as e:\n",
    "    print(\"error\")"
   ]
  },
  {
   "cell_type": "code",
   "execution_count": 7,
   "id": "12b56dfb-7f90-419b-9e35-6b50f2c34620",
   "metadata": {
    "execution": {
     "iopub.execute_input": "2024-09-06T14:01:32.456994Z",
     "iopub.status.busy": "2024-09-06T14:01:32.455690Z",
     "iopub.status.idle": "2024-09-06T14:01:32.463204Z",
     "shell.execute_reply": "2024-09-06T14:01:32.461846Z",
     "shell.execute_reply.started": "2024-09-06T14:01:32.456925Z"
    }
   },
   "outputs": [],
   "source": [
    "outputs = []"
   ]
  },
  {
   "cell_type": "code",
   "execution_count": null,
   "id": "1d097584-993e-4c6e-b316-fa594e8e79b6",
   "metadata": {
    "execution": {
     "iopub.execute_input": "2024-09-06T14:01:35.587448Z",
     "iopub.status.busy": "2024-09-06T14:01:35.585808Z"
    }
   },
   "outputs": [],
   "source": [
    "for index, single_data in enumerate(data):\n",
    "    try:\n",
    "        inf_output = inference(single_data)\n",
    "        inf_output = json.loads(inf_output)\n",
    "        outputs.append(inf_output)\n",
    "        # print(inf_output)\n",
    "    except json.JSONDecodeError as e:\n",
    "        # 如果遇到无效的JSON字符串，打印错误信息并继续处理其他数据\n",
    "        print(f\"无效的JSON位于序号 {index}: {inf_output}，错误信息: {e}\")\n",
    "        while True:"
   ]
  },
  {
   "cell_type": "code",
   "execution_count": 31,
   "id": "5cb0eaf1-f82d-46fd-9601-c7c1a7c30c7e",
   "metadata": {
    "execution": {
     "iopub.execute_input": "2024-09-06T11:43:52.658321Z",
     "iopub.status.busy": "2024-09-06T11:43:52.657411Z",
     "iopub.status.idle": "2024-09-06T11:43:52.664716Z",
     "shell.execute_reply": "2024-09-06T11:43:52.663475Z",
     "shell.execute_reply.started": "2024-09-06T11:43:52.658254Z"
    }
   },
   "outputs": [],
   "source": [
    "test_file_path = 'data2text/test_useless_llama3.json'"
   ]
  },
  {
   "cell_type": "code",
   "execution_count": 32,
   "id": "5ee37bef-76ef-4a20-8abf-8be4eee03941",
   "metadata": {
    "execution": {
     "iopub.execute_input": "2024-09-06T11:43:56.659048Z",
     "iopub.status.busy": "2024-09-06T11:43:56.658300Z",
     "iopub.status.idle": "2024-09-06T11:43:56.715922Z",
     "shell.execute_reply": "2024-09-06T11:43:56.714955Z",
     "shell.execute_reply.started": "2024-09-06T11:43:56.658993Z"
    }
   },
   "outputs": [],
   "source": [
    "with open(test_file_path, 'w', encoding='utf-8') as file:\n",
    "    json.dump(outputs, file, ensure_ascii=False, indent=4)"
   ]
  },
  {
   "cell_type": "code",
   "execution_count": 29,
   "id": "b73693ea-2354-4b0d-8a5d-778a07521d65",
   "metadata": {
    "collapsed": true,
    "execution": {
     "iopub.execute_input": "2024-09-04T12:40:34.557302Z",
     "iopub.status.busy": "2024-09-04T12:40:34.556427Z",
     "iopub.status.idle": "2024-09-04T12:40:34.629473Z",
     "shell.execute_reply": "2024-09-04T12:40:34.628480Z",
     "shell.execute_reply.started": "2024-09-04T12:40:34.557239Z"
    },
    "jupyter": {
     "outputs_hidden": true
    }
   },
   "outputs": [
    {
     "ename": "JSONDecodeError",
     "evalue": "Expecting value: line 1 column 1 (char 0)",
     "output_type": "error",
     "traceback": [
      "\u001b[0;31m---------------------------------------------------------------------------\u001b[0m",
      "\u001b[0;31mJSONDecodeError\u001b[0m                           Traceback (most recent call last)",
      "Cell \u001b[0;32mIn[29], line 2\u001b[0m\n\u001b[1;32m      1\u001b[0m \u001b[38;5;28;01mwith\u001b[39;00m \u001b[38;5;28mopen\u001b[39m(\u001b[38;5;124m'\u001b[39m\u001b[38;5;124mdata2text/test_useless.json\u001b[39m\u001b[38;5;124m'\u001b[39m, \u001b[38;5;124m'\u001b[39m\u001b[38;5;124mr\u001b[39m\u001b[38;5;124m'\u001b[39m, encoding\u001b[38;5;241m=\u001b[39m\u001b[38;5;124m'\u001b[39m\u001b[38;5;124mutf-8\u001b[39m\u001b[38;5;124m'\u001b[39m) \u001b[38;5;28;01mas\u001b[39;00m file:\n\u001b[0;32m----> 2\u001b[0m     data_baichuan \u001b[38;5;241m=\u001b[39m \u001b[43mjson\u001b[49m\u001b[38;5;241;43m.\u001b[39;49m\u001b[43mload\u001b[49m\u001b[43m(\u001b[49m\u001b[43mfile\u001b[49m\u001b[43m)\u001b[49m\n\u001b[1;32m      4\u001b[0m dicts \u001b[38;5;241m=\u001b[39m []\n\u001b[1;32m      5\u001b[0m \u001b[38;5;28;01mfor\u001b[39;00m sentence \u001b[38;5;129;01min\u001b[39;00m data_baichuan:\n",
      "File \u001b[0;32m/usr/lib/python3.10/json/__init__.py:293\u001b[0m, in \u001b[0;36mload\u001b[0;34m(fp, cls, object_hook, parse_float, parse_int, parse_constant, object_pairs_hook, **kw)\u001b[0m\n\u001b[1;32m    274\u001b[0m \u001b[38;5;28;01mdef\u001b[39;00m \u001b[38;5;21mload\u001b[39m(fp, \u001b[38;5;241m*\u001b[39m, \u001b[38;5;28mcls\u001b[39m\u001b[38;5;241m=\u001b[39m\u001b[38;5;28;01mNone\u001b[39;00m, object_hook\u001b[38;5;241m=\u001b[39m\u001b[38;5;28;01mNone\u001b[39;00m, parse_float\u001b[38;5;241m=\u001b[39m\u001b[38;5;28;01mNone\u001b[39;00m,\n\u001b[1;32m    275\u001b[0m         parse_int\u001b[38;5;241m=\u001b[39m\u001b[38;5;28;01mNone\u001b[39;00m, parse_constant\u001b[38;5;241m=\u001b[39m\u001b[38;5;28;01mNone\u001b[39;00m, object_pairs_hook\u001b[38;5;241m=\u001b[39m\u001b[38;5;28;01mNone\u001b[39;00m, \u001b[38;5;241m*\u001b[39m\u001b[38;5;241m*\u001b[39mkw):\n\u001b[1;32m    276\u001b[0m \u001b[38;5;250m    \u001b[39m\u001b[38;5;124;03m\"\"\"Deserialize ``fp`` (a ``.read()``-supporting file-like object containing\u001b[39;00m\n\u001b[1;32m    277\u001b[0m \u001b[38;5;124;03m    a JSON document) to a Python object.\u001b[39;00m\n\u001b[1;32m    278\u001b[0m \n\u001b[0;32m   (...)\u001b[0m\n\u001b[1;32m    291\u001b[0m \u001b[38;5;124;03m    kwarg; otherwise ``JSONDecoder`` is used.\u001b[39;00m\n\u001b[1;32m    292\u001b[0m \u001b[38;5;124;03m    \"\"\"\u001b[39;00m\n\u001b[0;32m--> 293\u001b[0m     \u001b[38;5;28;01mreturn\u001b[39;00m \u001b[43mloads\u001b[49m\u001b[43m(\u001b[49m\u001b[43mfp\u001b[49m\u001b[38;5;241;43m.\u001b[39;49m\u001b[43mread\u001b[49m\u001b[43m(\u001b[49m\u001b[43m)\u001b[49m\u001b[43m,\u001b[49m\n\u001b[1;32m    294\u001b[0m \u001b[43m        \u001b[49m\u001b[38;5;28;43mcls\u001b[39;49m\u001b[38;5;241;43m=\u001b[39;49m\u001b[38;5;28;43mcls\u001b[39;49m\u001b[43m,\u001b[49m\u001b[43m \u001b[49m\u001b[43mobject_hook\u001b[49m\u001b[38;5;241;43m=\u001b[39;49m\u001b[43mobject_hook\u001b[49m\u001b[43m,\u001b[49m\n\u001b[1;32m    295\u001b[0m \u001b[43m        \u001b[49m\u001b[43mparse_float\u001b[49m\u001b[38;5;241;43m=\u001b[39;49m\u001b[43mparse_float\u001b[49m\u001b[43m,\u001b[49m\u001b[43m \u001b[49m\u001b[43mparse_int\u001b[49m\u001b[38;5;241;43m=\u001b[39;49m\u001b[43mparse_int\u001b[49m\u001b[43m,\u001b[49m\n\u001b[1;32m    296\u001b[0m \u001b[43m        \u001b[49m\u001b[43mparse_constant\u001b[49m\u001b[38;5;241;43m=\u001b[39;49m\u001b[43mparse_constant\u001b[49m\u001b[43m,\u001b[49m\u001b[43m \u001b[49m\u001b[43mobject_pairs_hook\u001b[49m\u001b[38;5;241;43m=\u001b[39;49m\u001b[43mobject_pairs_hook\u001b[49m\u001b[43m,\u001b[49m\u001b[43m \u001b[49m\u001b[38;5;241;43m*\u001b[39;49m\u001b[38;5;241;43m*\u001b[39;49m\u001b[43mkw\u001b[49m\u001b[43m)\u001b[49m\n",
      "File \u001b[0;32m/usr/lib/python3.10/json/__init__.py:346\u001b[0m, in \u001b[0;36mloads\u001b[0;34m(s, cls, object_hook, parse_float, parse_int, parse_constant, object_pairs_hook, **kw)\u001b[0m\n\u001b[1;32m    341\u001b[0m     s \u001b[38;5;241m=\u001b[39m s\u001b[38;5;241m.\u001b[39mdecode(detect_encoding(s), \u001b[38;5;124m'\u001b[39m\u001b[38;5;124msurrogatepass\u001b[39m\u001b[38;5;124m'\u001b[39m)\n\u001b[1;32m    343\u001b[0m \u001b[38;5;28;01mif\u001b[39;00m (\u001b[38;5;28mcls\u001b[39m \u001b[38;5;129;01mis\u001b[39;00m \u001b[38;5;28;01mNone\u001b[39;00m \u001b[38;5;129;01mand\u001b[39;00m object_hook \u001b[38;5;129;01mis\u001b[39;00m \u001b[38;5;28;01mNone\u001b[39;00m \u001b[38;5;129;01mand\u001b[39;00m\n\u001b[1;32m    344\u001b[0m         parse_int \u001b[38;5;129;01mis\u001b[39;00m \u001b[38;5;28;01mNone\u001b[39;00m \u001b[38;5;129;01mand\u001b[39;00m parse_float \u001b[38;5;129;01mis\u001b[39;00m \u001b[38;5;28;01mNone\u001b[39;00m \u001b[38;5;129;01mand\u001b[39;00m\n\u001b[1;32m    345\u001b[0m         parse_constant \u001b[38;5;129;01mis\u001b[39;00m \u001b[38;5;28;01mNone\u001b[39;00m \u001b[38;5;129;01mand\u001b[39;00m object_pairs_hook \u001b[38;5;129;01mis\u001b[39;00m \u001b[38;5;28;01mNone\u001b[39;00m \u001b[38;5;129;01mand\u001b[39;00m \u001b[38;5;129;01mnot\u001b[39;00m kw):\n\u001b[0;32m--> 346\u001b[0m     \u001b[38;5;28;01mreturn\u001b[39;00m \u001b[43m_default_decoder\u001b[49m\u001b[38;5;241;43m.\u001b[39;49m\u001b[43mdecode\u001b[49m\u001b[43m(\u001b[49m\u001b[43ms\u001b[49m\u001b[43m)\u001b[49m\n\u001b[1;32m    347\u001b[0m \u001b[38;5;28;01mif\u001b[39;00m \u001b[38;5;28mcls\u001b[39m \u001b[38;5;129;01mis\u001b[39;00m \u001b[38;5;28;01mNone\u001b[39;00m:\n\u001b[1;32m    348\u001b[0m     \u001b[38;5;28mcls\u001b[39m \u001b[38;5;241m=\u001b[39m JSONDecoder\n",
      "File \u001b[0;32m/usr/lib/python3.10/json/decoder.py:337\u001b[0m, in \u001b[0;36mJSONDecoder.decode\u001b[0;34m(self, s, _w)\u001b[0m\n\u001b[1;32m    332\u001b[0m \u001b[38;5;28;01mdef\u001b[39;00m \u001b[38;5;21mdecode\u001b[39m(\u001b[38;5;28mself\u001b[39m, s, _w\u001b[38;5;241m=\u001b[39mWHITESPACE\u001b[38;5;241m.\u001b[39mmatch):\n\u001b[1;32m    333\u001b[0m \u001b[38;5;250m    \u001b[39m\u001b[38;5;124;03m\"\"\"Return the Python representation of ``s`` (a ``str`` instance\u001b[39;00m\n\u001b[1;32m    334\u001b[0m \u001b[38;5;124;03m    containing a JSON document).\u001b[39;00m\n\u001b[1;32m    335\u001b[0m \n\u001b[1;32m    336\u001b[0m \u001b[38;5;124;03m    \"\"\"\u001b[39;00m\n\u001b[0;32m--> 337\u001b[0m     obj, end \u001b[38;5;241m=\u001b[39m \u001b[38;5;28;43mself\u001b[39;49m\u001b[38;5;241;43m.\u001b[39;49m\u001b[43mraw_decode\u001b[49m\u001b[43m(\u001b[49m\u001b[43ms\u001b[49m\u001b[43m,\u001b[49m\u001b[43m \u001b[49m\u001b[43midx\u001b[49m\u001b[38;5;241;43m=\u001b[39;49m\u001b[43m_w\u001b[49m\u001b[43m(\u001b[49m\u001b[43ms\u001b[49m\u001b[43m,\u001b[49m\u001b[43m \u001b[49m\u001b[38;5;241;43m0\u001b[39;49m\u001b[43m)\u001b[49m\u001b[38;5;241;43m.\u001b[39;49m\u001b[43mend\u001b[49m\u001b[43m(\u001b[49m\u001b[43m)\u001b[49m\u001b[43m)\u001b[49m\n\u001b[1;32m    338\u001b[0m     end \u001b[38;5;241m=\u001b[39m _w(s, end)\u001b[38;5;241m.\u001b[39mend()\n\u001b[1;32m    339\u001b[0m     \u001b[38;5;28;01mif\u001b[39;00m end \u001b[38;5;241m!=\u001b[39m \u001b[38;5;28mlen\u001b[39m(s):\n",
      "File \u001b[0;32m/usr/lib/python3.10/json/decoder.py:355\u001b[0m, in \u001b[0;36mJSONDecoder.raw_decode\u001b[0;34m(self, s, idx)\u001b[0m\n\u001b[1;32m    353\u001b[0m     obj, end \u001b[38;5;241m=\u001b[39m \u001b[38;5;28mself\u001b[39m\u001b[38;5;241m.\u001b[39mscan_once(s, idx)\n\u001b[1;32m    354\u001b[0m \u001b[38;5;28;01mexcept\u001b[39;00m \u001b[38;5;167;01mStopIteration\u001b[39;00m \u001b[38;5;28;01mas\u001b[39;00m err:\n\u001b[0;32m--> 355\u001b[0m     \u001b[38;5;28;01mraise\u001b[39;00m JSONDecodeError(\u001b[38;5;124m\"\u001b[39m\u001b[38;5;124mExpecting value\u001b[39m\u001b[38;5;124m\"\u001b[39m, s, err\u001b[38;5;241m.\u001b[39mvalue) \u001b[38;5;28;01mfrom\u001b[39;00m \u001b[38;5;28;01mNone\u001b[39;00m\n\u001b[1;32m    356\u001b[0m \u001b[38;5;28;01mreturn\u001b[39;00m obj, end\n",
      "\u001b[0;31mJSONDecodeError\u001b[0m: Expecting value: line 1 column 1 (char 0)"
     ]
    }
   ],
   "source": [
    "with open('data2text/test_useless.json', 'r', encoding='utf-8') as file:\n",
    "    data_baichuan = json.load(file)\n",
    "\n",
    "dicts = []\n",
    "for sentence in data_baichuan:\n",
    "    try:\n",
    "        parsed_dict = json.loads(sentence)\n",
    "        dicts.append(parsed_dict)\n",
    "    except json.JSONDecodeError as e:\n",
    "        raise ValueError(f\"JSON decode error: {e} for item: {sentence}\")"
   ]
  },
  {
   "cell_type": "code",
   "execution_count": null,
   "id": "66cc192a-f1ca-4b7f-8a72-d086010fba44",
   "metadata": {},
   "outputs": [],
   "source": []
  }
 ],
 "metadata": {
  "kernelspec": {
   "display_name": "Python 3 (ipykernel)",
   "language": "python",
   "name": "python3"
  },
  "language_info": {
   "codemirror_mode": {
    "name": "ipython",
    "version": 3
   },
   "file_extension": ".py",
   "mimetype": "text/x-python",
   "name": "python",
   "nbconvert_exporter": "python",
   "pygments_lexer": "ipython3",
   "version": "3.10.12"
  }
 },
 "nbformat": 4,
 "nbformat_minor": 5
}
