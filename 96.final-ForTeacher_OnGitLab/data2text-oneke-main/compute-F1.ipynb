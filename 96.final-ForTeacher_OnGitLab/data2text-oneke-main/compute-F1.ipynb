{
 "cells": [
  {
   "cell_type": "markdown",
   "id": "78e0da06-fcdc-45c7-bc59-84aaa9c6a2d0",
   "metadata": {},
   "source": [
    "# 使用新方法计算F1\n",
    "- F1计算方式为表格中的信息被模型抽取到"
   ]
  },
  {
   "cell_type": "code",
   "execution_count": 1,
   "id": "c7a5a6fb-5f1b-4609-98af-cdeeec0de807",
   "metadata": {
    "execution": {
     "iopub.execute_input": "2024-08-18T10:53:10.574992Z",
     "iopub.status.busy": "2024-08-18T10:53:10.571077Z",
     "iopub.status.idle": "2024-08-18T10:53:10.580656Z",
     "shell.execute_reply": "2024-08-18T10:53:10.579540Z",
     "shell.execute_reply.started": "2024-08-18T10:53:10.574912Z"
    }
   },
   "outputs": [],
   "source": [
    "# file_path = 'results/baichuan2-13B-iepile-data2text-test-output.json'\n",
    "file_path = 'results/baichuan7B-ft-test-output-v2.json'\n",
    "# file_path = 'results/baichuan2-13B-iepile-ft-test-output.json'"
   ]
  },
  {
   "cell_type": "code",
   "execution_count": 73,
   "id": "0747ecba-f775-4d8d-bed0-6adfe214ee85",
   "metadata": {
    "execution": {
     "iopub.execute_input": "2024-08-10T04:39:37.455889Z",
     "iopub.status.busy": "2024-08-10T04:39:37.455059Z",
     "iopub.status.idle": "2024-08-10T04:39:37.489795Z",
     "shell.execute_reply": "2024-08-10T04:39:37.488966Z",
     "shell.execute_reply.started": "2024-08-10T04:39:37.455831Z"
    }
   },
   "outputs": [
    {
     "name": "stdout",
     "output_type": "stream",
     "text": [
      "总实体数量: 1420.0\n"
     ]
    }
   ],
   "source": [
    "import json\n",
    "\n",
    "excluded_entity_types = {\"任务\", \"事件\", \"行动\"}\n",
    "# excluded_entity_types = {'任务类型', '备注', '指挥员', '主体数量', '主体名称', '主体类型', '行动', '军种', '数量', '任务状态', '开始时间', '装备', '单位', '人数', '国别',}\n",
    "\n",
    "\n",
    "def count_entities_in_jsonl(file_path):\n",
    "    len_label = 0\n",
    "\n",
    "    # 打开 JSONL 文件\n",
    "    with open(file_path, 'r', encoding='utf-8') as file:\n",
    "        # 逐行读取文件内容\n",
    "        for line in file:\n",
    "            # 解析 JSON 数据\n",
    "            record = json.loads(line)\n",
    "\n",
    "            # 获取 label 字段并解析为列表\n",
    "            label = json.loads(record['label'])\n",
    "\n",
    "            for la in label:\n",
    "                if la['entity_type'] in excluded_entity_types:\n",
    "                    continue\n",
    "                len_label += 1\n",
    "                \n",
    "    # “6”表示headers总数22（25种除去行动事件任务）/split_num（一次抽取4个实体类型）后向上取整\n",
    "    return len_label / 6\n",
    "\n",
    "\n",
    "# 设置你的文件路径\n",
    "total_entities = count_entities_in_jsonl(file_path)\n",
    "print(f\"总实体数量: {total_entities}\")\n"
   ]
  },
  {
   "cell_type": "code",
   "execution_count": 74,
   "id": "92794fea-0f74-4202-bb22-dd486f8715aa",
   "metadata": {
    "execution": {
     "iopub.execute_input": "2024-08-10T04:39:39.902230Z",
     "iopub.status.busy": "2024-08-10T04:39:39.901554Z",
     "iopub.status.idle": "2024-08-10T04:39:39.940182Z",
     "shell.execute_reply": "2024-08-10T04:39:39.939295Z",
     "shell.execute_reply.started": "2024-08-10T04:39:39.902186Z"
    }
   },
   "outputs": [
    {
     "name": "stdout",
     "output_type": "stream",
     "text": [
      "有效实体数量: 1239\n",
      "F1值：0.8725352112676056\n"
     ]
    }
   ],
   "source": [
    "import json\n",
    "\n",
    "excluded_entity_types = {\"任务\", \"事件\", \"行动\"}\n",
    "# excluded_entity_types = {'组织机构', '任务类型', '备注', '指挥员', '主体数量', '主体名称', '主体类型', '行动', '军种', '数量', '任务状态', '时间', '地点', '人物', '开始时间', '装备名称', '装备', '单位', '人数', '装备类型', '事件', '国家', '任务', '国别', '装备数量'}\n",
    "\n",
    "def count_valid_entities(file_path):\n",
    "    valid_entity_count = 0\n",
    "\n",
    "    # 打开 JSONL 文件\n",
    "    with open(file_path, 'r', encoding='utf-8') as file:\n",
    "        # 逐行读取文件内容\n",
    "        for line in file:\n",
    "            # 解析 JSON 数据\n",
    "            record = json.loads(line)\n",
    "\n",
    "            # 解析 label 和 output 字段\n",
    "            label_entities = json.loads(record['label'])\n",
    "            output_entities = json.loads(record['output'])\n",
    "\n",
    "            # 将 output 中的实体合并成一个列表\n",
    "            output_entity_list = []\n",
    "            for key in output_entities:\n",
    "\n",
    "                output_entity_list.extend(output_entities[key])\n",
    "\n",
    "            # print(output_entity_list)\n",
    "\n",
    "            # 检查 label 中的每个实体是否在 output 中逐字匹配\n",
    "            for entity_info in label_entities:\n",
    "                label_entity = entity_info['entity']\n",
    "                entity_type = entity_info['entity_type']\n",
    "\n",
    "                if entity_type in excluded_entity_types:\n",
    "                    continue\n",
    "\n",
    "                # 检查是否 label_entity 在 output_entity_list 中的任何一个实体字符串中\n",
    "                if any(label_entity in output_entity for output_entity in output_entity_list):\n",
    "                    valid_entity_count += 1\n",
    "                # else:\n",
    "                #     print(label_entity)\n",
    "\n",
    "    return valid_entity_count\n",
    "\n",
    "\n",
    "# 设置你的文件路径\n",
    "valid_entity_count = count_valid_entities(file_path)\n",
    "print(f\"有效实体数量: {valid_entity_count}\")\n",
    "\n",
    "# \n",
    "print(f\"F1值：{valid_entity_count / total_entities}\")"
   ]
  },
  {
   "cell_type": "markdown",
   "id": "74701767-f8f2-4d62-9bc1-fa989d0d2d1d",
   "metadata": {},
   "source": [
    "{\n",
    "  '组织机构':0.769\n",
    "  '任务类型': \n",
    "  '备注':\n",
    "  '指挥员': \n",
    "  '主体数量':0.819 \n",
    "  '主体名称':0.851\n",
    "  '主体类型':0.811\n",
    "  '军种': \n",
    "  '数量': \n",
    "  '任务状态': \n",
    "  '时间': 0.901\n",
    "  '地点': 0.913\n",
    "  '人物': 0.08 # 原始数据标注质量不好\n",
    "  '开始时间': \n",
    "  '装备名称':0.866 \n",
    "  '装备':\n",
    "  '单位': \n",
    "  '人数': \n",
    "  '装备类型': 0.841\n",
    "  '国家': 0.365 \n",
    "  '国别':\n",
    "  '装备数量':0.817\n",
    "}"
   ]
  },
  {
   "cell_type": "markdown",
   "id": "78d7909c-b7df-4038-af6d-8887403a0129",
   "metadata": {},
   "source": [
    "## 计算F1"
   ]
  },
  {
   "cell_type": "code",
   "execution_count": 2,
   "id": "83e75f6e-132a-4d6f-aa17-462263307fec",
   "metadata": {
    "execution": {
     "iopub.execute_input": "2024-08-18T10:53:15.467968Z",
     "iopub.status.busy": "2024-08-18T10:53:15.466835Z",
     "iopub.status.idle": "2024-08-18T10:53:15.515695Z",
     "shell.execute_reply": "2024-08-18T10:53:15.514826Z",
     "shell.execute_reply.started": "2024-08-18T10:53:15.467915Z"
    }
   },
   "outputs": [
    {
     "name": "stdout",
     "output_type": "stream",
     "text": [
      "有效实体数量: 978，总实体数量：1420.0\n",
      "F1值：0.6887323943661972\n"
     ]
    }
   ],
   "source": [
    "import json\n",
    "\n",
    "# excluded_entity_types = {\"装备数量\"}\n",
    "excluded_entity_types = {'组织机构', '任务类型', '备注', '指挥员', '主体数量', '主体名称', '主体类型', '军种', '数量', '任务状态', '时间', '地点', '开始时间', '装备名称', '装备', '单位', '人数', '装备类型', '国别', '装备数量', '人物', '国家'}\n",
    "# excluded_entity_types = {'组织机构', '任务类型', '备注', '指挥员', '主体数量', '主体名称', '主体类型', '军种', '数量', '任务状态', '时间', '地点', '开始时间', '装备名称', '装备', '单位', '人数', '装备类型', '国别', '装备数量'}\n",
    "\n",
    "\n",
    "def count_valid_entities(file_path):\n",
    "    valid_entity_count = 0\n",
    "    entity_count = 0\n",
    "\n",
    "    # 打开 JSONL 文件\n",
    "    with open(file_path, 'r', encoding='utf-8') as file:\n",
    "        # 逐行读取文件内容\n",
    "        for line in file:\n",
    "            # 解析 JSON 数据\n",
    "            record = json.loads(line)\n",
    "\n",
    "            # 解析 label 和 output 字段\n",
    "            label_entities = json.loads(record['label'])\n",
    "            output_entities = json.loads(record['output'])\n",
    "\n",
    "            # 将 output 中的实体合并成一个列表\n",
    "            output_entity_list = []\n",
    "            for key in output_entities:\n",
    "                output_entity_list.extend(output_entities[key])\n",
    "\n",
    "            # print(output_entity_list)\n",
    "\n",
    "            # 检查 label 中的每个实体是否在 output 中逐字匹配\n",
    "            for entity_info in label_entities:\n",
    "                label_entity = entity_info['entity']\n",
    "                entity_type = entity_info['entity_type']\n",
    "\n",
    "                if entity_type in excluded_entity_types:\n",
    "                    entity_count += 1\n",
    "                    for key in output_entities:\n",
    "                        # 检查是否 label_entity 在 output_entity_list 中的任何一个实体字符串中\n",
    "                        if key == entity_type:\n",
    "                            if any(label_entity in output_entity for output_entity in output_entity_list):\n",
    "                                valid_entity_count += 1\n",
    "\n",
    "    return valid_entity_count, entity_count / 6\n",
    "\n",
    "\n",
    "# 设置你的文件路径\n",
    "valid_entity_count, entities = count_valid_entities(file_path)\n",
    "print(f\"有效实体数量: {valid_entity_count}，总实体数量：{entities}\")\n",
    "\n",
    "# 算F1\n",
    "print(f\"F1值：{valid_entity_count / entities}\")"
   ]
  },
  {
   "cell_type": "markdown",
   "id": "fc0d0b70-4ab4-470d-991f-a9e4a7bf3ebe",
   "metadata": {
    "jp-MarkdownHeadingCollapsed": true
   },
   "source": [
    "## 统计\n",
    "{\n",
    "  '组织机构':0.769\n",
    "  '任务类型': \n",
    "  '备注':\n",
    "  '指挥员': \n",
    "  '主体数量':0.819 \n",
    "  '主体名称':0.851\n",
    "  '主体类型':0.811\n",
    "  '军种': \n",
    "  '数量': \n",
    "  '任务状态': \n",
    "  '时间': 0.901\n",
    "  '地点': 0.913\n",
    "  '人物': 0.08 # 原始数据标注质量不好\n",
    "  '开始时间': \n",
    "  '装备名称':0.866 \n",
    "  '装备':\n",
    "  '单位': \n",
    "  '人数': \n",
    "  '装备类型': 0.841\n",
    "  '国家': 0.365 \n",
    "  '国别':\n",
    "  '装备数量':0.817\n",
    "}"
   ]
  }
 ],
 "metadata": {
  "kernelspec": {
   "display_name": "Python 3 (ipykernel)",
   "language": "python",
   "name": "python3"
  },
  "language_info": {
   "codemirror_mode": {
    "name": "ipython",
    "version": 3
   },
   "file_extension": ".py",
   "mimetype": "text/x-python",
   "name": "python",
   "nbconvert_exporter": "python",
   "pygments_lexer": "ipython3",
   "version": "3.10.12"
  }
 },
 "nbformat": 4,
 "nbformat_minor": 5
}
