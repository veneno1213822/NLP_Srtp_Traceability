{
 "cells": [
  {
   "cell_type": "code",
   "execution_count": 1,
   "id": "60578e66-06e4-41e8-ab54-554aef863e2d",
   "metadata": {
    "execution": {
     "iopub.execute_input": "2024-09-04T11:34:41.375552Z",
     "iopub.status.busy": "2024-09-04T11:34:41.374817Z",
     "iopub.status.idle": "2024-09-04T11:34:45.323601Z",
     "shell.execute_reply": "2024-09-04T11:34:45.322741Z",
     "shell.execute_reply.started": "2024-09-04T11:34:41.375506Z"
    }
   },
   "outputs": [
    {
     "name": "stderr",
     "output_type": "stream",
     "text": [
      "/usr/local/lib/python3.9/dist-packages/fuzzywuzzy/fuzz.py:11: UserWarning: Using slow pure-python SequenceMatcher. Install python-Levenshtein to remove this warning\n",
      "  warnings.warn('Using slow pure-python SequenceMatcher. Install python-Levenshtein to remove this warning')\n",
      "/usr/local/lib/python3.9/dist-packages/tqdm/auto.py:21: TqdmWarning: IProgress not found. Please update jupyter and ipywidgets. See https://ipywidgets.readthedocs.io/en/stable/user_install.html\n",
      "  from .autonotebook import tqdm as notebook_tqdm\n"
     ]
    },
    {
     "name": "stdout",
     "output_type": "stream",
     "text": [
      "\n",
      "===================================BUG REPORT===================================\n",
      "Welcome to bitsandbytes. For bug reports, please run\n",
      "\n",
      "python -m bitsandbytes\n",
      "\n",
      " and submit this information together with your error trace to: https://github.com/TimDettmers/bitsandbytes/issues\n",
      "================================================================================\n",
      "bin /usr/local/lib/python3.9/dist-packages/bitsandbytes/libbitsandbytes_cuda117.so\n",
      "CUDA_SETUP: WARNING! libcudart.so not found in any environmental path. Searching in backup paths...\n",
      "CUDA SETUP: CUDA runtime path found: /usr/local/cuda/lib64/libcudart.so.11.0\n",
      "CUDA SETUP: Highest compute capability among GPUs detected: 8.6\n",
      "CUDA SETUP: Detected CUDA version 117\n",
      "CUDA SETUP: Loading binary /usr/local/lib/python3.9/dist-packages/bitsandbytes/libbitsandbytes_cuda117.so...\n"
     ]
    },
    {
     "name": "stderr",
     "output_type": "stream",
     "text": [
      "/usr/local/lib/python3.9/dist-packages/bitsandbytes/cuda_setup/main.py:149: UserWarning: WARNING: The following directories listed in your path were found to be non-existent: {PosixPath('/usr/local/nvidia/lib64'), PosixPath('/usr/local/nvidia/lib')}\n",
      "  warn(msg)\n",
      "/usr/local/lib/python3.9/dist-packages/bitsandbytes/cuda_setup/main.py:149: UserWarning: /usr/local/nvidia/lib:/usr/local/nvidia/lib64 did not contain ['libcudart.so', 'libcudart.so.11.0', 'libcudart.so.12.0'] as expected! Searching further paths...\n",
      "  warn(msg)\n",
      "/usr/local/lib/python3.9/dist-packages/bitsandbytes/cuda_setup/main.py:149: UserWarning: WARNING: The following directories listed in your path were found to be non-existent: {PosixPath('//pypi.tuna.tsinghua.edu.cn/simple'), PosixPath('https')}\n",
      "  warn(msg)\n",
      "/usr/local/lib/python3.9/dist-packages/bitsandbytes/cuda_setup/main.py:149: UserWarning: WARNING: The following directories listed in your path were found to be non-existent: {PosixPath('module'), PosixPath('//matplotlib_inline.backend_inline')}\n",
      "  warn(msg)\n",
      "                                             \r"
     ]
    }
   ],
   "source": [
    "from add_ref.add_refs_new import add_refs_new\n",
    "from convert_internal_external.convert_model_output_2_output import convert_model_output_2_output\n",
    "from convert_internal_external.convert_input_2_model_input import convert_input_2_model_input\n",
    "from verify_oneke.oneke_create_verify import *\n",
    "from post_process.text_coref_cache import coref\n",
    "import time"
   ]
  },
  {
   "cell_type": "code",
   "execution_count": 2,
   "id": "5ff11a75-d317-48f8-a104-33a56f8561e9",
   "metadata": {
    "execution": {
     "iopub.execute_input": "2024-09-04T11:34:45.324930Z",
     "iopub.status.busy": "2024-09-04T11:34:45.324568Z",
     "iopub.status.idle": "2024-09-04T11:34:45.328962Z",
     "shell.execute_reply": "2024-09-04T11:34:45.328431Z",
     "shell.execute_reply.started": "2024-09-04T11:34:45.324911Z"
    }
   },
   "outputs": [],
   "source": [
    "def read_json(file_path):\n",
    "    with open(file_path, 'r', encoding='utf-8') as file:\n",
    "        return json.load(file)\n",
    "\n",
    "    # 写入JSON文件\n",
    "def write_json(data, file_path):\n",
    "    try:\n",
    "        with open(file_path, \"w\", encoding='utf-8') as json_file:\n",
    "            json.dump(data, json_file, indent=2, ensure_ascii=False)\n",
    "        print(f\"数据已成功写入 {file_path}\")\n",
    "    except Exception as e:\n",
    "        print(f\"写入文件时出错: {e}\")"
   ]
  },
  {
   "cell_type": "code",
   "execution_count": 3,
   "id": "23d4e2ae-e281-49b6-894c-8cfc8a41005c",
   "metadata": {
    "execution": {
     "iopub.execute_input": "2024-09-04T11:34:45.362381Z",
     "iopub.status.busy": "2024-09-04T11:34:45.361462Z",
     "iopub.status.idle": "2024-09-04T11:34:45.369975Z",
     "shell.execute_reply": "2024-09-04T11:34:45.369346Z",
     "shell.execute_reply.started": "2024-09-04T11:34:45.362325Z"
    }
   },
   "outputs": [],
   "source": [
    "def main():\n",
    "    total_time = 0\n",
    "    for x in range(1, 14):\n",
    "        input_file = f'test_time_data/test_data_{x}/input.json'\n",
    "        result_file = f'test_time_data/test_data_{x}/result.json'\n",
    "\n",
    "        # 读取JSON文件（不计入时间）\n",
    "        res_1_i_verify = read_json(input_file)\n",
    "        res_2_i_verify = read_json(result_file)\n",
    "\n",
    "        # 记录开始时间\n",
    "        # start_time = time.time()\n",
    "\n",
    "        # 处理代码\n",
    "        result = add_verify_data(res_1_i_verify, res_2_i_verify)\n",
    "        result = update_verify_based_on_text(result)\n",
    "        start_time = time.time()\n",
    "        res_1_i_verify = coref(result)\n",
    "        end_time = time.time()\n",
    "\n",
    "        # start_time = time.time()\n",
    "        \n",
    "        res_1_i_verify = add_refs_new(res_1_i_verify)\n",
    "\n",
    "        # end_time = time.time()\n",
    "\n",
    "        # 记录结束时间\n",
    "        # end_time = time.time()\n",
    "\n",
    "        # 计算单次处理时间并累加\n",
    "        total_time += (end_time - start_time)\n",
    "\n",
    "        # 写入结果（不计入时间）\n",
    "        output_file = f'test_time_data/test_data_{x}/oneke_result_5.json'\n",
    "        write_json(res_1_i_verify, output_file)\n",
    "\n",
    "        print(f\"文件 test_data_{x} 执行时间: {end_time - start_time} 秒\")\n",
    "\n",
    "    # 计算平均时间\n",
    "    average_time = total_time / 13\n",
    "    print(f\"平均执行时间: {average_time} 秒\")"
   ]
  },
  {
   "cell_type": "code",
   "execution_count": 4,
   "id": "636eacba-f612-4eb0-bb44-de5d215a1df2",
   "metadata": {
    "execution": {
     "iopub.execute_input": "2024-09-04T11:34:45.370867Z",
     "iopub.status.busy": "2024-09-04T11:34:45.370685Z",
     "iopub.status.idle": "2024-09-04T11:34:48.305503Z",
     "shell.execute_reply": "2024-09-04T11:34:48.304754Z",
     "shell.execute_reply.started": "2024-09-04T11:34:45.370848Z"
    }
   },
   "outputs": [
    {
     "name": "stdout",
     "output_type": "stream",
     "text": [
      "数据已成功写入 test_time_data/test_data_1/oneke_result_5.json\n",
      "文件 test_data_1 执行时间: 0.8825087547302246 秒\n",
      "数据已成功写入 test_time_data/test_data_2/oneke_result_5.json\n",
      "文件 test_data_2 执行时间: 0.042920827865600586 秒\n",
      "数据已成功写入 test_time_data/test_data_3/oneke_result_5.json\n",
      "文件 test_data_3 执行时间: 0.13691115379333496 秒\n",
      "数据已成功写入 test_time_data/test_data_4/oneke_result_5.json\n",
      "文件 test_data_4 执行时间: 0.1593019962310791 秒\n",
      "数据已成功写入 test_time_data/test_data_5/oneke_result_5.json\n",
      "文件 test_data_5 执行时间: 0.18927454948425293 秒\n",
      "数据已成功写入 test_time_data/test_data_6/oneke_result_5.json\n",
      "文件 test_data_6 执行时间: 0.130706787109375 秒\n",
      "数据已成功写入 test_time_data/test_data_7/oneke_result_5.json\n",
      "文件 test_data_7 执行时间: 0.18756723403930664 秒\n",
      "数据已成功写入 test_time_data/test_data_8/oneke_result_5.json\n",
      "文件 test_data_8 执行时间: 0.16836786270141602 秒\n",
      "数据已成功写入 test_time_data/test_data_9/oneke_result_5.json\n",
      "文件 test_data_9 执行时间: 0.030316829681396484 秒\n",
      "数据已成功写入 test_time_data/test_data_10/oneke_result_5.json\n",
      "文件 test_data_10 执行时间: 0.30655622482299805 秒\n",
      "数据已成功写入 test_time_data/test_data_11/oneke_result_5.json\n",
      "文件 test_data_11 执行时间: 0.04165339469909668 秒\n",
      "数据已成功写入 test_time_data/test_data_12/oneke_result_5.json\n",
      "文件 test_data_12 执行时间: 0.08373880386352539 秒\n",
      "数据已成功写入 test_time_data/test_data_13/oneke_result_5.json\n",
      "文件 test_data_13 执行时间: 0.15032267570495605 秒\n",
      "平均执行时间: 0.19308823805588943 秒\n"
     ]
    }
   ],
   "source": [
    "if __name__ == '__main__':\n",
    "    main()"
   ]
  },
  {
   "cell_type": "code",
   "execution_count": null,
   "id": "a608d500-fadf-4c90-85de-5981c962c0e0",
   "metadata": {},
   "outputs": [],
   "source": []
  }
 ],
 "metadata": {
  "kernelspec": {
   "display_name": "Python 3 (ipykernel)",
   "language": "python",
   "name": "python3"
  },
  "language_info": {
   "codemirror_mode": {
    "name": "ipython",
    "version": 3
   },
   "file_extension": ".py",
   "mimetype": "text/x-python",
   "name": "python",
   "nbconvert_exporter": "python",
   "pygments_lexer": "ipython3",
   "version": "3.9.19"
  }
 },
 "nbformat": 4,
 "nbformat_minor": 5
}
