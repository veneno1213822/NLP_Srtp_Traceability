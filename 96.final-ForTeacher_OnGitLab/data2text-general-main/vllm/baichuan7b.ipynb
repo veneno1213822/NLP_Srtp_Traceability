{
 "cells": [
  {
   "cell_type": "markdown",
   "id": "bee394c8-83b7-41d0-892f-50697cdfed0c",
   "metadata": {},
   "source": [
    "# 将oneke_wrapper中常规推理更换为vllm推理并进行测试"
   ]
  },
  {
   "cell_type": "code",
   "execution_count": 1,
   "id": "a4694871-3759-44d9-93c4-b188b293587b",
   "metadata": {
    "execution": {
     "iopub.execute_input": "2024-08-31T06:49:41.156961Z",
     "iopub.status.busy": "2024-08-31T06:49:41.156631Z",
     "iopub.status.idle": "2024-08-31T06:49:46.999785Z",
     "shell.execute_reply": "2024-08-31T06:49:46.998648Z",
     "shell.execute_reply.started": "2024-08-31T06:49:41.156934Z"
    }
   },
   "outputs": [
    {
     "name": "stderr",
     "output_type": "stream",
     "text": [
      "/usr/local/lib/python3.10/dist-packages/fuzzywuzzy/fuzz.py:11: UserWarning: Using slow pure-python SequenceMatcher. Install python-Levenshtein to remove this warning\n",
      "  warnings.warn('Using slow pure-python SequenceMatcher. Install python-Levenshtein to remove this warning')\n"
     ]
    }
   ],
   "source": [
    "import json\n",
    "from oneke_wrapper import OneKEWrapper"
   ]
  },
  {
   "cell_type": "markdown",
   "id": "552bfd5f-37dc-48e4-8b4c-1351d9b244b1",
   "metadata": {},
   "source": [
    "安装了——ipywidgets-8.1.5 jupyterlab-widgets-3.0.13 widgetsnbextension-4.0.13"
   ]
  },
  {
   "cell_type": "markdown",
   "id": "0cbd5b64-9d0d-48ea-9d44-978211763a8d",
   "metadata": {
    "execution": {
     "iopub.execute_input": "2024-08-24T13:46:44.175805Z",
     "iopub.status.busy": "2024-08-24T13:46:44.174936Z",
     "iopub.status.idle": "2024-08-24T13:46:44.181969Z",
     "shell.execute_reply": "2024-08-24T13:46:44.180622Z",
     "shell.execute_reply.started": "2024-08-24T13:46:44.175742Z"
    }
   },
   "source": [
    "## 定义模型路径以及卡号"
   ]
  },
  {
   "cell_type": "code",
   "execution_count": 2,
   "id": "c16a5d9f-7908-456b-8673-0c0ef44ce992",
   "metadata": {
    "execution": {
     "iopub.execute_input": "2024-08-31T06:49:47.001378Z",
     "iopub.status.busy": "2024-08-31T06:49:47.001073Z",
     "iopub.status.idle": "2024-08-31T06:49:47.005959Z",
     "shell.execute_reply": "2024-08-31T06:49:47.005064Z",
     "shell.execute_reply.started": "2024-08-31T06:49:47.001356Z"
    }
   },
   "outputs": [],
   "source": [
    "model_path = \"./cache/models--baichuan-inc--Baichuan2-7B-Chat/snapshots/ea66ced17780ca3db39bc9f8aa601d8463db3da5\"\n",
    "lora_path = \"./lora/baichuan7B-data2text-continue\"\n",
    "\n",
    "device = \"cuda:3\""
   ]
  },
  {
   "cell_type": "markdown",
   "id": "e94378f4-d95f-40a1-8c6c-25ed52bc19e1",
   "metadata": {},
   "source": [
    "## 初始化类对象,加载模型"
   ]
  },
  {
   "cell_type": "code",
   "execution_count": 3,
   "id": "fc667b2a-665a-4a3f-b136-21e81c8b271d",
   "metadata": {
    "execution": {
     "iopub.execute_input": "2024-08-31T06:49:47.007270Z",
     "iopub.status.busy": "2024-08-31T06:49:47.007042Z",
     "iopub.status.idle": "2024-08-31T06:51:10.641316Z",
     "shell.execute_reply": "2024-08-31T06:51:10.640161Z",
     "shell.execute_reply.started": "2024-08-31T06:49:47.007246Z"
    }
   },
   "outputs": [
    {
     "name": "stdout",
     "output_type": "stream",
     "text": [
      "Initializing OneKEWrapper...\n"
     ]
    },
    {
     "name": "stderr",
     "output_type": "stream",
     "text": [
      "/usr/local/lib/python3.10/dist-packages/xformers/ops/fmha/flash.py:211: FutureWarning: `torch.library.impl_abstract` was renamed to `torch.library.register_fake`. Please use that instead; we will remove `torch.library.impl_abstract` in a future version of PyTorch.\n",
      "  @torch.library.impl_abstract(\"xformers_flash::flash_fwd\")\n",
      "/usr/local/lib/python3.10/dist-packages/xformers/ops/fmha/flash.py:344: FutureWarning: `torch.library.impl_abstract` was renamed to `torch.library.register_fake`. Please use that instead; we will remove `torch.library.impl_abstract` in a future version of PyTorch.\n",
      "  @torch.library.impl_abstract(\"xformers_flash::flash_bwd\")\n",
      "/usr/local/lib/python3.10/dist-packages/peft/peft_model.py:556: FutureWarning: You are using `torch.load` with `weights_only=False` (the current default value), which uses the default pickle module implicitly. It is possible to construct malicious pickle data which will execute arbitrary code during unpickling (See https://github.com/pytorch/pytorch/blob/main/SECURITY.md#untrusted-models for more details). In a future release, the default value for `weights_only` will be flipped to `True`. This limits the functions that could be executed during unpickling. Arbitrary objects will no longer be allowed to be loaded via this mode unless they are explicitly allowlisted by the user via `torch.serialization.add_safe_globals`. We recommend you start setting `weights_only=True` for any use case where you don't have full control of the loaded file. Please open an issue on GitHub for any issues related to this experimental feature.\n",
      "  adapters_weights = torch.load(\n"
     ]
    }
   ],
   "source": [
    "oneke_wrapper = OneKEWrapper(model_path, lora_path, device, False)"
   ]
  },
  {
   "cell_type": "markdown",
   "id": "e622e06d-da33-49c6-9361-b1950d5fd3ce",
   "metadata": {},
   "source": [
    "## vllm推理单条测试"
   ]
  },
  {
   "cell_type": "code",
   "execution_count": 4,
   "id": "3e8aff0a-d4e9-4684-b93d-b75afd17cc08",
   "metadata": {
    "execution": {
     "iopub.execute_input": "2024-08-31T06:51:10.644013Z",
     "iopub.status.busy": "2024-08-31T06:51:10.643782Z",
     "iopub.status.idle": "2024-08-31T06:51:14.128951Z",
     "shell.execute_reply": "2024-08-31T06:51:14.128135Z",
     "shell.execute_reply.started": "2024-08-31T06:51:10.643990Z"
    }
   },
   "outputs": [
    {
     "name": "stderr",
     "output_type": "stream",
     "text": [
      "The attention mask is not set and cannot be inferred from input because pad token is same as eos token. As a consequence, you may observe unexpected behavior. Please pass your input's `attention_mask` to obtain reliable results.\n",
      "/usr/lib/python3.10/contextlib.py:103: FutureWarning: `torch.backends.cuda.sdp_kernel()` is deprecated. In the future, this context manager will be removed. Please see `torch.nn.attention.sdpa_kernel()` for the new context manager, with updated signature.\n",
      "  self.gen = func(*args, **kwds)\n"
     ]
    },
    {
     "data": {
      "text/plain": [
       "[{'table': {'header': ['时间',\n",
       "    '人物',\n",
       "    '国家',\n",
       "    '装备名称',\n",
       "    '装备类型',\n",
       "    '装备数量',\n",
       "    '组织机构',\n",
       "    '地点',\n",
       "    '任务',\n",
       "    '行动',\n",
       "    '事件'],\n",
       "   'data': {'2': ['去年五月',\n",
       "     '军方检察官',\n",
       "     '台湾',\n",
       "     '笔记本电脑',\n",
       "     '导弹艇',\n",
       "     '一台',\n",
       "     '海军',\n",
       "     '未明确',\n",
       "     '未明确',\n",
       "     '展开调查',\n",
       "     '笔记本电脑丢失']}},\n",
       "  'origin': {},\n",
       "  'text': '一些消息人士透露，这两张地图中包含有关台湾海军舰艇布署的情况。如果发生战争，丢失这两张地图将使台湾海军在面对敌方时失去战斗力。此外，还有一台导弹艇上的笔记本电脑在去年五月丢失，军方检察官认真对此展开调查。',\n",
       "  'verify': {'2': [{'v': '去年五月', 'span': '', 'cf': ''},\n",
       "    {'v': None, 'span': '', 'cf': ''},\n",
       "    {'v': '台湾', 'span': '', 'cf': ''},\n",
       "    {'v': '笔记本电脑', 'span': '', 'cf': ''},\n",
       "    {'v': None, 'span': '', 'cf': ''},\n",
       "    {'v': '一台', 'span': '', 'cf': ''},\n",
       "    {'v': '海军', 'span': '', 'cf': ''},\n",
       "    {'v': None, 'span': '', 'cf': ''},\n",
       "    {'v': None, 'span': '', 'cf': ''},\n",
       "    {'v': '展开调查', 'span': '', 'cf': ''},\n",
       "    {'v': '笔记本电脑丢失', 'span': '', 'cf': ''}]},\n",
       "  'add_refs': []}]"
      ]
     },
     "execution_count": 4,
     "metadata": {},
     "output_type": "execute_result"
    }
   ],
   "source": [
    "# 加载数据\n",
    "data = json.load(open(\"./internal_data_type/data2text_test_all-v1.json\"))\n",
    "\n",
    "#选取第一条进行推理\n",
    "oneke_wrapper.inference(data[0])"
   ]
  },
  {
   "cell_type": "markdown",
   "id": "225caee1-18a0-4294-88d6-87c2af81371c",
   "metadata": {},
   "source": [
    "## vllm推理全集测试，记录平均时间"
   ]
  },
  {
   "cell_type": "code",
   "execution_count": 5,
   "id": "ceb26d13-0aec-44f3-a0cb-aaf53c5ab3f5",
   "metadata": {
    "execution": {
     "iopub.execute_input": "2024-08-31T06:51:14.130229Z",
     "iopub.status.busy": "2024-08-31T06:51:14.129837Z",
     "iopub.status.idle": "2024-08-31T09:01:31.554654Z",
     "shell.execute_reply": "2024-08-31T09:01:31.553560Z",
     "shell.execute_reply.started": "2024-08-31T06:51:14.130209Z"
    }
   },
   "outputs": [
    {
     "name": "stderr",
     "output_type": "stream",
     "text": [
      " 19%|█▉        | 409/2138 [24:07<1:39:09,  3.44s/it]"
     ]
    },
    {
     "name": "stdout",
     "output_type": "stream",
     "text": [
      "Expecting ',' delimiter: line 1 column 69 (char 68)\n",
      "input:{'instruction': '你是一个命名实体识别专家。请从input中抽取符合schema描述的实体，如果实体类型不存在就返回空列表，并输出为可解析的json格式。', 'schema': ['时间', '人物', '国家', '装备名称', '装备类型', '装备数量', '组织机构', '地点', '任务', '行动', '事件'], 'input': '美国海军第七舰队旗舰「小鹰」号航空母舰于10月13日抵达北海道小樽市的小樽港，登陆日本民用港口是美日两国新防卫合作指针和「周边事态法」的成果之一，遭到担忧小樽朝军港化发展的民间组织在港口集结抗议，但航母仍然在胜纳埠头安然停泊。这艘满载排水量81,775吨的「小鹰」号是继1997年9月停泊于此的航母「独立」号之后第二艘进入小樽港的美国航空母舰，这也是美国军舰首次进入日本民用港口。'}, output:{\"时间\": [\"10月13日\"], \"人物\": [], \"国家\": [\"美国\"], \"装备名称\": [\"小鹰」号, «独立」号], \"装备类型\": [\"航空母舰\"], \"装备数量\": [\"1\"], \"组织机构\": [], \"地点\": [\"北海道小樽市的小樽港\"], \"任务\": [], \"行动\": [], \"事件\": []}\n"
     ]
    },
    {
     "name": "stderr",
     "output_type": "stream",
     "text": [
      " 30%|██▉       | 633/2138 [37:40<1:41:01,  4.03s/it]"
     ]
    },
    {
     "name": "stdout",
     "output_type": "stream",
     "text": [
      "Expecting ',' delimiter: line 1 column 130 (char 129)\n",
      "input:{'instruction': '你是一个命名实体识别专家。请从input中抽取符合schema描述的实体，如果实体类型不存在就返回空列表，并输出为可解析的json格式。', 'schema': ['时间', '人物', '国家', '装备名称', '装备类型', '装备数量', '组织机构', '地点', '任务', '行动', '事件'], 'input': '俄罗斯签署了两份建造合同，其中包括6艘11356型护卫舰为黑海舰队建造。第一艘格里戈洛维奇上将号已于3月14日下水，另外5艘正在建造中。根据合同规定，这批护卫舰将在2014年至2017年期间陆续交付黑海舰队。'}, output:{\"时间\": [\"3月14日\", \"2014年至2017年\"], \"人物\": [], \"国家\": [\"俄罗斯\"], \"装备名称\": [\"格里戈洛维奇上将号\", \"11356型护卫舰\"], \"装备类型\": [\"护卫舰\"], \"装备数量\": [\"1\", \"6\"]， \"组织机构\": [\"黑海舰队\"], \"地点\": [\"黑海\"], \"任务\": [], \"行动\": [], \"事件\": []}\n"
     ]
    },
    {
     "name": "stderr",
     "output_type": "stream",
     "text": [
      "100%|██████████| 2138/2138 [2:10:17<00:00,  3.66s/it]  "
     ]
    },
    {
     "name": "stdout",
     "output_type": "stream",
     "text": [
      "3.6507059208462747\n"
     ]
    },
    {
     "name": "stderr",
     "output_type": "stream",
     "text": [
      "\n"
     ]
    }
   ],
   "source": [
    "# 所有数据计算平均时间\n",
    "from tqdm import tqdm\n",
    "oneke_wrapper.data_count = 0\n",
    "oneke_wrapper.total_time = 0\n",
    "results = []\n",
    "for d in tqdm(data):\n",
    "    results.append(oneke_wrapper.inference(d))\n",
    "print(oneke_wrapper.total_time/oneke_wrapper.data_count)"
   ]
  },
  {
   "cell_type": "code",
   "execution_count": 6,
   "id": "525d7524-b9fd-4337-93e2-869433fe5e33",
   "metadata": {
    "execution": {
     "iopub.execute_input": "2024-08-31T09:01:31.556315Z",
     "iopub.status.busy": "2024-08-31T09:01:31.555903Z",
     "iopub.status.idle": "2024-08-31T09:01:31.562615Z",
     "shell.execute_reply": "2024-08-31T09:01:31.561336Z",
     "shell.execute_reply.started": "2024-08-31T09:01:31.556291Z"
    }
   },
   "outputs": [
    {
     "name": "stdout",
     "output_type": "stream",
     "text": [
      "Average inference time: 3.6507059208462747\n"
     ]
    }
   ],
   "source": [
    "print(f\"Average inference time: {oneke_wrapper.total_time/oneke_wrapper.data_count}\")"
   ]
  },
  {
   "cell_type": "code",
   "execution_count": 14,
   "id": "1197303d-496b-40ed-ad83-a2ce4921b770",
   "metadata": {
    "execution": {
     "iopub.execute_input": "2024-08-31T09:07:59.021427Z",
     "iopub.status.busy": "2024-08-31T09:07:59.021091Z",
     "iopub.status.idle": "2024-08-31T09:07:59.025803Z",
     "shell.execute_reply": "2024-08-31T09:07:59.025258Z",
     "shell.execute_reply.started": "2024-08-31T09:07:59.021404Z"
    }
   },
   "outputs": [
    {
     "name": "stdout",
     "output_type": "stream",
     "text": [
      "15740968960 0 25430786048\n",
      "Memory used for inference: 15011.76 MB\n",
      "Memory occupied after inference: 61.90%\n"
     ]
    }
   ],
   "source": [
    "import torch\n",
    "memory_used = torch.cuda.memory_allocated(device=3) - oneke_wrapper.gpu_mem_before_load\n",
    "memory_occupied = torch.cuda.memory_allocated(device=3) / oneke_wrapper.gpu_mem_max * 100\n",
    "print(f\"Memory used for inference: {memory_used / (1024 ** 2):.2f} MB\")\n",
    "print(f\"Memory occupied after inference: {memory_occupied:.2f}%\")"
   ]
  },
  {
   "cell_type": "code",
   "execution_count": 8,
   "id": "db4c63ce-ac20-4c72-b044-e9b99de4fb60",
   "metadata": {
    "execution": {
     "iopub.execute_input": "2024-08-31T09:01:31.608687Z",
     "iopub.status.busy": "2024-08-31T09:01:31.608107Z",
     "iopub.status.idle": "2024-08-31T09:01:31.621924Z",
     "shell.execute_reply": "2024-08-31T09:01:31.621446Z",
     "shell.execute_reply.started": "2024-08-31T09:01:31.608644Z"
    }
   },
   "outputs": [
    {
     "name": "stdout",
     "output_type": "stream",
     "text": [
      "2138\n"
     ]
    }
   ],
   "source": [
    "print(len(results))"
   ]
  },
  {
   "cell_type": "code",
   "execution_count": 9,
   "id": "481e9d7d-347b-46ff-b613-eabcc710d040",
   "metadata": {
    "execution": {
     "iopub.execute_input": "2024-08-31T09:01:31.623144Z",
     "iopub.status.busy": "2024-08-31T09:01:31.622827Z",
     "iopub.status.idle": "2024-08-31T09:01:32.396421Z",
     "shell.execute_reply": "2024-08-31T09:01:32.395824Z",
     "shell.execute_reply.started": "2024-08-31T09:01:31.623119Z"
    }
   },
   "outputs": [],
   "source": [
    "json.dump(results, open(\"./results/baichuan.json\",'w+'),ensure_ascii = False)"
   ]
  }
 ],
 "metadata": {
  "kernelspec": {
   "display_name": "Python 3 (ipykernel)",
   "language": "python",
   "name": "python3"
  },
  "language_info": {
   "codemirror_mode": {
    "name": "ipython",
    "version": 3
   },
   "file_extension": ".py",
   "mimetype": "text/x-python",
   "name": "python",
   "nbconvert_exporter": "python",
   "pygments_lexer": "ipython3",
   "version": "3.9.19"
  }
 },
 "nbformat": 4,
 "nbformat_minor": 5
}
